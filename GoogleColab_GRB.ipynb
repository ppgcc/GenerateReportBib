{
  "cells": [
    {
      "cell_type": "markdown",
      "metadata": {
        "id": "view-in-github",
        "colab_type": "text"
      },
      "source": [
        "<a href=\"https://colab.research.google.com/github/ppgcc/GenerateReportBib/blob/master/GoogleColab_GRB.ipynb\" target=\"_parent\"><img src=\"https://colab.research.google.com/assets/colab-badge.svg\" alt=\"Open In Colab\"/></a>"
      ]
    },
    {
      "cell_type": "markdown",
      "metadata": {
        "id": "_0YxKxojEOJ5",
        "colab_type": "text"
      },
      "source": [
        "# ***GenerateReportBib (GRB)***\n",
        "- Por _Olimar Teixeira Borges_"
      ]
    },
    {
      "cell_type": "markdown",
      "metadata": {
        "id": "ya8_AH1KDkd-",
        "colab_type": "text"
      },
      "source": [
        "## - **ATENÇÃO:** Antes de iniciar a execução deste arquivo, é aconselhado ler a documentação completa ([README.md](https://github.com/olimarborges/GenerateReportBib/blob/master/README.md)) do repositório original. Na documentação estão os detalhes para entender como os resultados deste script devem ser interpretados.\n",
        "- Se preferir, você pode ir direto para a leitura dos tópicos: \n",
        "  - [Entendendo o GRB](https://github.com/olimarborges/GenerateReportBib/blob/master/README.md#entendendo-o-GRB)\n",
        "  - [Utilizando o GRB](https://github.com/olimarborges/GenerateReportBib/blob/master/README.md#utilizando-o-GRB)\n",
        "## - Assistam também ao vídeo no [YouTube](https://www.youtube.com/watch?v=qU_Uc38Y7pU&feature=youtu.be), onde explico como executar o Script no Google Colab passo-a-passo.\n",
        "## - Aproveitem o script!"
      ]
    },
    {
      "cell_type": "markdown",
      "metadata": {
        "id": "t4sEz4-CA027",
        "colab_type": "text"
      },
      "source": [
        "## Realize a cópia (clone) do Repositório Original do GitHub do GRB"
      ]
    },
    {
      "cell_type": "code",
      "metadata": {
        "id": "0mkiJ9oKUhQN",
        "colab_type": "code",
        "outputId": "6c5e92ad-644f-4ee8-a3c0-49572dd6446b",
        "colab": {
          "base_uri": "https://localhost:8080/",
          "height": 119
        }
      },
      "source": [
        "!git clone https://github.com/ppgcc/GenerateReportBib.git"
      ],
      "execution_count": 0,
      "outputs": [
        {
          "output_type": "stream",
          "text": [
            "Cloning into 'GenerateReportBib'...\n",
            "remote: Enumerating objects: 81, done.\u001b[K\n",
            "remote: Counting objects:   1% (1/81)\u001b[K\rremote: Counting objects:   2% (2/81)\u001b[K\rremote: Counting objects:   3% (3/81)\u001b[K\rremote: Counting objects:   4% (4/81)\u001b[K\rremote: Counting objects:   6% (5/81)\u001b[K\rremote: Counting objects:   7% (6/81)\u001b[K\rremote: Counting objects:   8% (7/81)\u001b[K\rremote: Counting objects:   9% (8/81)\u001b[K\rremote: Counting objects:  11% (9/81)\u001b[K\rremote: Counting objects:  12% (10/81)\u001b[K\rremote: Counting objects:  13% (11/81)\u001b[K\rremote: Counting objects:  14% (12/81)\u001b[K\rremote: Counting objects:  16% (13/81)\u001b[K\rremote: Counting objects:  17% (14/81)\u001b[K\rremote: Counting objects:  18% (15/81)\u001b[K\rremote: Counting objects:  19% (16/81)\u001b[K\rremote: Counting objects:  20% (17/81)\u001b[K\rremote: Counting objects:  22% (18/81)\u001b[K\rremote: Counting objects:  23% (19/81)\u001b[K\rremote: Counting objects:  24% (20/81)\u001b[K\rremote: Counting objects:  25% (21/81)\u001b[K\rremote: Counting objects:  27% (22/81)\u001b[K\rremote: Counting objects:  28% (23/81)\u001b[K\rremote: Counting objects:  29% (24/81)\u001b[K\rremote: Counting objects:  30% (25/81)\u001b[K\rremote: Counting objects:  32% (26/81)\u001b[K\rremote: Counting objects:  33% (27/81)\u001b[K\rremote: Counting objects:  34% (28/81)\u001b[K\rremote: Counting objects:  35% (29/81)\u001b[K\rremote: Counting objects:  37% (30/81)\u001b[K\rremote: Counting objects:  38% (31/81)\u001b[K\rremote: Counting objects:  39% (32/81)\u001b[K\rremote: Counting objects:  40% (33/81)\u001b[K\rremote: Counting objects:  41% (34/81)\u001b[K\rremote: Counting objects:  43% (35/81)\u001b[K\rremote: Counting objects:  44% (36/81)\u001b[K\rremote: Counting objects:  45% (37/81)\u001b[K\rremote: Counting objects:  46% (38/81)\u001b[K\rremote: Counting objects:  48% (39/81)\u001b[K\rremote: Counting objects:  49% (40/81)\u001b[K\rremote: Counting objects:  50% (41/81)\u001b[K\rremote: Counting objects:  51% (42/81)\u001b[K\rremote: Counting objects:  53% (43/81)\u001b[K\rremote: Counting objects:  54% (44/81)\u001b[K\rremote: Counting objects:  55% (45/81)\u001b[K\rremote: Counting objects:  56% (46/81)\u001b[K\rremote: Counting objects:  58% (47/81)\u001b[K\rremote: Counting objects:  59% (48/81)\u001b[K\rremote: Counting objects:  60% (49/81)\u001b[K\rremote: Counting objects:  61% (50/81)\u001b[K\rremote: Counting objects:  62% (51/81)\u001b[K\rremote: Counting objects:  64% (52/81)\u001b[K\rremote: Counting objects:  65% (53/81)\u001b[K\rremote: Counting objects:  66% (54/81)\u001b[K\rremote: Counting objects:  67% (55/81)\u001b[K\rremote: Counting objects:  69% (56/81)\u001b[K\rremote: Counting objects:  70% (57/81)\u001b[K\rremote: Counting objects:  71% (58/81)\u001b[K\rremote: Counting objects:  72% (59/81)\u001b[K\rremote: Counting objects:  74% (60/81)\u001b[K\rremote: Counting objects:  75% (61/81)\u001b[K\rremote: Counting objects:  76% (62/81)\u001b[K\rremote: Counting objects:  77% (63/81)\u001b[K\rremote: Counting objects:  79% (64/81)\u001b[K\rremote: Counting objects:  80% (65/81)\u001b[K\rremote: Counting objects:  81% (66/81)\u001b[K\rremote: Counting objects:  82% (67/81)\u001b[K\rremote: Counting objects:  83% (68/81)\u001b[K\rremote: Counting objects:  85% (69/81)\u001b[K\rremote: Counting objects:  86% (70/81)\u001b[K\rremote: Counting objects:  87% (71/81)\u001b[K\rremote: Counting objects:  88% (72/81)\u001b[K\rremote: Counting objects:  90% (73/81)\u001b[K\rremote: Counting objects:  91% (74/81)\u001b[K\rremote: Counting objects:  92% (75/81)\u001b[K\rremote: Counting objects:  93% (76/81)\u001b[K\rremote: Counting objects:  95% (77/81)\u001b[K\rremote: Counting objects:  96% (78/81)\u001b[K\rremote: Counting objects:  97% (79/81)\u001b[K\rremote: Counting objects:  98% (80/81)\u001b[K\rremote: Counting objects: 100% (81/81)\u001b[K\rremote: Counting objects: 100% (81/81), done.\u001b[K\n",
            "remote: Compressing objects:   1% (1/56)\u001b[K\rremote: Compressing objects:   3% (2/56)\u001b[K\rremote: Compressing objects:   5% (3/56)\u001b[K\rremote: Compressing objects:   7% (4/56)\u001b[K\rremote: Compressing objects:   8% (5/56)\u001b[K\rremote: Compressing objects:  10% (6/56)\u001b[K\rremote: Compressing objects:  12% (7/56)\u001b[K\rremote: Compressing objects:  14% (8/56)\u001b[K\rremote: Compressing objects:  16% (9/56)\u001b[K\rremote: Compressing objects:  17% (10/56)\u001b[K\rremote: Compressing objects:  19% (11/56)\u001b[K\rremote: Compressing objects:  21% (12/56)\u001b[K\rremote: Compressing objects:  23% (13/56)\u001b[K\rremote: Compressing objects:  25% (14/56)\u001b[K\rremote: Compressing objects:  26% (15/56)\u001b[K\rremote: Compressing objects:  28% (16/56)\u001b[K\rremote: Compressing objects:  30% (17/56)\u001b[K\rremote: Compressing objects:  32% (18/56)\u001b[K\rremote: Compressing objects:  33% (19/56)\u001b[K\rremote: Compressing objects:  35% (20/56)\u001b[K\rremote: Compressing objects:  37% (21/56)\u001b[K\rremote: Compressing objects:  39% (22/56)\u001b[K\rremote: Compressing objects:  41% (23/56)\u001b[K\rremote: Compressing objects:  42% (24/56)\u001b[K\rremote: Compressing objects:  44% (25/56)\u001b[K\rremote: Compressing objects:  46% (26/56)\u001b[K\rremote: Compressing objects:  48% (27/56)\u001b[K\rremote: Compressing objects:  50% (28/56)\u001b[K\rremote: Compressing objects:  51% (29/56)\u001b[K\rremote: Compressing objects:  53% (30/56)\u001b[K\rremote: Compressing objects:  55% (31/56)\u001b[K\rremote: Compressing objects:  57% (32/56)\u001b[K\rremote: Compressing objects:  58% (33/56)\u001b[K\rremote: Compressing objects:  60% (34/56)\u001b[K\rremote: Compressing objects:  62% (35/56)\u001b[K\rremote: Compressing objects:  64% (36/56)\u001b[K\rremote: Compressing objects:  66% (37/56)\u001b[K\rremote: Compressing objects:  67% (38/56)\u001b[K\rremote: Compressing objects:  69% (39/56)\u001b[K\rremote: Compressing objects:  71% (40/56)\u001b[K\rremote: Compressing objects:  73% (41/56)\u001b[K\rremote: Compressing objects:  75% (42/56)\u001b[K\rremote: Compressing objects:  76% (43/56)\u001b[K\rremote: Compressing objects:  78% (44/56)\u001b[K\rremote: Compressing objects:  80% (45/56)\u001b[K\rremote: Compressing objects:  82% (46/56)\u001b[K\rremote: Compressing objects:  83% (47/56)\u001b[K\rremote: Compressing objects:  85% (48/56)\u001b[K\rremote: Compressing objects:  87% (49/56)\u001b[K\rremote: Compressing objects:  89% (50/56)\u001b[K\rremote: Compressing objects:  91% (51/56)\u001b[K\rremote: Compressing objects:  92% (52/56)\u001b[K\rremote: Compressing objects:  94% (53/56)\u001b[K\rremote: Compressing objects:  96% (54/56)\u001b[K\rremote: Compressing objects:  98% (55/56)\u001b[K\rremote: Compressing objects: 100% (56/56)\u001b[K\rremote: Compressing objects: 100% (56/56), done.\u001b[K\n",
            "Unpacking objects:   1% (1/81)   \rUnpacking objects:   2% (2/81)   \rUnpacking objects:   3% (3/81)   \rUnpacking objects:   4% (4/81)   \rUnpacking objects:   6% (5/81)   \rUnpacking objects:   7% (6/81)   \rUnpacking objects:   8% (7/81)   \rUnpacking objects:   9% (8/81)   \rUnpacking objects:  11% (9/81)   \rUnpacking objects:  12% (10/81)   \rUnpacking objects:  13% (11/81)   \rUnpacking objects:  14% (12/81)   \rUnpacking objects:  16% (13/81)   \rUnpacking objects:  17% (14/81)   \rUnpacking objects:  18% (15/81)   \rUnpacking objects:  19% (16/81)   \rUnpacking objects:  20% (17/81)   \rUnpacking objects:  22% (18/81)   \rUnpacking objects:  23% (19/81)   \rUnpacking objects:  24% (20/81)   \rUnpacking objects:  25% (21/81)   \rUnpacking objects:  27% (22/81)   \rUnpacking objects:  28% (23/81)   \rUnpacking objects:  29% (24/81)   \rUnpacking objects:  30% (25/81)   \rUnpacking objects:  32% (26/81)   \rUnpacking objects:  33% (27/81)   \rUnpacking objects:  34% (28/81)   \rUnpacking objects:  35% (29/81)   \rUnpacking objects:  37% (30/81)   \rUnpacking objects:  38% (31/81)   \rUnpacking objects:  39% (32/81)   \rUnpacking objects:  40% (33/81)   \rUnpacking objects:  41% (34/81)   \rUnpacking objects:  43% (35/81)   \rUnpacking objects:  44% (36/81)   \rUnpacking objects:  45% (37/81)   \rUnpacking objects:  46% (38/81)   \rremote: Total 81 (delta 33), reused 64 (delta 19), pack-reused 0\u001b[K\n",
            "Unpacking objects:  48% (39/81)   \rUnpacking objects:  49% (40/81)   \rUnpacking objects:  50% (41/81)   \rUnpacking objects:  51% (42/81)   \rUnpacking objects:  53% (43/81)   \rUnpacking objects:  54% (44/81)   \rUnpacking objects:  55% (45/81)   \rUnpacking objects:  56% (46/81)   \rUnpacking objects:  58% (47/81)   \rUnpacking objects:  59% (48/81)   \rUnpacking objects:  60% (49/81)   \rUnpacking objects:  61% (50/81)   \rUnpacking objects:  62% (51/81)   \rUnpacking objects:  64% (52/81)   \rUnpacking objects:  65% (53/81)   \rUnpacking objects:  66% (54/81)   \rUnpacking objects:  67% (55/81)   \rUnpacking objects:  69% (56/81)   \rUnpacking objects:  70% (57/81)   \rUnpacking objects:  71% (58/81)   \rUnpacking objects:  72% (59/81)   \rUnpacking objects:  74% (60/81)   \rUnpacking objects:  75% (61/81)   \rUnpacking objects:  76% (62/81)   \rUnpacking objects:  77% (63/81)   \rUnpacking objects:  79% (64/81)   \rUnpacking objects:  80% (65/81)   \rUnpacking objects:  81% (66/81)   \rUnpacking objects:  82% (67/81)   \rUnpacking objects:  83% (68/81)   \rUnpacking objects:  85% (69/81)   \rUnpacking objects:  86% (70/81)   \rUnpacking objects:  87% (71/81)   \rUnpacking objects:  88% (72/81)   \rUnpacking objects:  90% (73/81)   \rUnpacking objects:  91% (74/81)   \rUnpacking objects:  92% (75/81)   \rUnpacking objects:  93% (76/81)   \rUnpacking objects:  95% (77/81)   \rUnpacking objects:  96% (78/81)   \rUnpacking objects:  97% (79/81)   \rUnpacking objects:  98% (80/81)   \rUnpacking objects: 100% (81/81)   \rUnpacking objects: 100% (81/81), done.\n"
          ],
          "name": "stdout"
        }
      ]
    },
    {
      "cell_type": "markdown",
      "metadata": {
        "id": "iBDB2oyTWtBO",
        "colab_type": "text"
      },
      "source": [
        "## Estrutura de pastas do Drive para encontrar os arquivos"
      ]
    },
    {
      "cell_type": "markdown",
      "metadata": {
        "id": "ioN-5g1vBZW5",
        "colab_type": "text"
      },
      "source": [
        "### Verifique se a pasta GenerateReportBib foi 'montada' aqui\n",
        "- Basta a pasta GenerateReportBib aparecer listada após a execução do 'ls'\n",
        "- Ou selecione o símbolo de 'pasta' com o label *Files*, que encontra-se do lado esquerdo deste script. Após selecionar este botão, será apresentada a estrutura de pastas."
      ]
    },
    {
      "cell_type": "code",
      "metadata": {
        "id": "1K0ZDLBzxib3",
        "colab_type": "code",
        "outputId": "e268306a-e59f-4fa3-8428-6c8211421797",
        "colab": {
          "base_uri": "https://localhost:8080/",
          "height": 34
        }
      },
      "source": [
        "!ls"
      ],
      "execution_count": 0,
      "outputs": [
        {
          "output_type": "stream",
          "text": [
            "drive  GenerateReportBib  sample_data\n"
          ],
          "name": "stdout"
        }
      ]
    },
    {
      "cell_type": "markdown",
      "metadata": {
        "id": "SZHQF9rABO6a",
        "colab_type": "text"
      },
      "source": [
        "### Acesse a pasta do Repositório onde o projeto está localizado"
      ]
    },
    {
      "cell_type": "code",
      "metadata": {
        "id": "kqb7SjubBUfv",
        "colab_type": "code",
        "colab": {}
      },
      "source": [
        "%cd GenerateReportBib"
      ],
      "execution_count": 0,
      "outputs": []
    },
    {
      "cell_type": "markdown",
      "metadata": {
        "id": "l2htnJ3aCHNZ",
        "colab_type": "text"
      },
      "source": [
        "### Verifique se você está dentro da pasta GenerateReportBib\n",
        "- Basta verificar se a estrutura de pastas e arquivos do projeto serão listadas após a execução do \"ls\""
      ]
    },
    {
      "cell_type": "code",
      "metadata": {
        "id": "TtOO0jpkBpaf",
        "colab_type": "code",
        "outputId": "15432d92-5394-41e1-f20f-8ee09b42079f",
        "colab": {
          "base_uri": "https://localhost:8080/",
          "height": 51
        }
      },
      "source": [
        "!ls"
      ],
      "execution_count": 0,
      "outputs": [
        {
          "output_type": "stream",
          "text": [
            "GenerateBIB\t grb.py\t\t OriginalBIB  requirements.txt\n",
            "GenerateReports  nltk_config.py  README.md    screenshots\n"
          ],
          "name": "stdout"
        }
      ]
    },
    {
      "cell_type": "markdown",
      "metadata": {
        "id": "dvJRgjrhWmnt",
        "colab_type": "text"
      },
      "source": [
        "## Dependências do Projeto"
      ]
    },
    {
      "cell_type": "markdown",
      "metadata": {
        "id": "h3hE-C9QCfoD",
        "colab_type": "text"
      },
      "source": [
        "### Instale as dependências"
      ]
    },
    {
      "cell_type": "code",
      "metadata": {
        "id": "Z9cjb9OhWjLx",
        "colab_type": "code",
        "colab": {}
      },
      "source": [
        "!pip install pathlib\n",
        "!pip install grip\n",
        "!pip install markdown2\n",
        "!pip install click\n",
        "!pip install wkhtmltopdf\n",
        "!pip install langdetect\n",
        "!pip install pybtex"
      ],
      "execution_count": 0,
      "outputs": []
    },
    {
      "cell_type": "markdown",
      "metadata": {
        "id": "V3d8Q2yACnCX",
        "colab_type": "text"
      },
      "source": [
        "### Stopwords do NLTK\n",
        "- Instale as configurações e corpus das stopwords do NLTK de forma separada das listadas acima"
      ]
    },
    {
      "cell_type": "code",
      "metadata": {
        "id": "Zd1i3UJi_H1E",
        "colab_type": "code",
        "outputId": "a9eee4a6-4ea4-42e7-efec-06493273b5e3",
        "colab": {
          "base_uri": "https://localhost:8080/",
          "height": 102
        }
      },
      "source": [
        "!pip install nltk\n",
        "import nltk\n",
        "from nltk.corpus import stopwords\n",
        "nltk.download('stopwords')"
      ],
      "execution_count": 0,
      "outputs": [
        {
          "output_type": "stream",
          "text": [
            "Requirement already satisfied: nltk in /usr/local/lib/python3.6/dist-packages (3.2.5)\n",
            "Requirement already satisfied: six in /usr/local/lib/python3.6/dist-packages (from nltk) (1.12.0)\n",
            "[nltk_data] Downloading package stopwords to /root/nltk_data...\n",
            "[nltk_data]   Unzipping corpora/stopwords.zip.\n"
          ],
          "name": "stdout"
        },
        {
          "output_type": "execute_result",
          "data": {
            "text/plain": [
              "True"
            ]
          },
          "metadata": {
            "tags": []
          },
          "execution_count": 28
        }
      ]
    },
    {
      "cell_type": "markdown",
      "metadata": {
        "id": "K7-1saQ9W2D2",
        "colab_type": "text"
      },
      "source": [
        "## Executar o Script grb.py"
      ]
    },
    {
      "cell_type": "markdown",
      "metadata": {
        "id": "7jYwXaZBHNqf",
        "colab_type": "text"
      },
      "source": [
        "### Primeiro, faça o upload do seu `arquivo.bib` para dentro da pasta `OriginalBIB`\n",
        "- Na estrutura de pastas localizada à esquerda deste script, ao passar o cursor do mouse sob a pasta `OriginalBIB`, aparcerá um botão com três pontos (...). Selecione ele e após faça upload do seu `arquivo.bib`."
      ]
    },
    {
      "cell_type": "markdown",
      "metadata": {
        "id": "uTWB65tYC-1B",
        "colab_type": "text"
      },
      "source": [
        "### Execute o script substituindo os valores `<parametro>` pelas suas informações:\n",
        "\n",
        "```bash\n",
        "!python grb.py <arquivo.bib> -L <idioma> -T <tipo>\n",
        "```\n",
        "### Exemplo de execução:\n",
        "```bash\n",
        "!python grb.py referencesTest.bib -L en -T num\n",
        "```"
      ]
    },
    {
      "cell_type": "code",
      "metadata": {
        "id": "Rof0-WoeW9TG",
        "colab_type": "code",
        "outputId": "ff0850b2-a87c-409e-cc33-2203e991922d",
        "colab": {
          "base_uri": "https://localhost:8080/",
          "height": 153
        }
      },
      "source": [
        "!python grb.py referencesTest.bib -L en -T num"
      ],
      "execution_count": 0,
      "outputs": [
        {
          "output_type": "stream",
          "text": [
            "LANGUAGE:  en\n",
            "TYPE_REFERENCES:  num\n",
            "FILE_NAME:  referencesTest.bib\n",
            "Exporting to referencesTest_Report_2020-05-25_18-04-54.html\n",
            " * Downloading style https://github.githubassets.com/assets/frameworks-2ad7892273edb163fa6783a69e80cc48.css\n",
            " * Downloading style https://github.githubassets.com/assets/site-c72d4cad0131ab28dbff38b082b939e1.css\n",
            " * Downloading style https://github.githubassets.com/assets/github-c20dd055fa2771ecfba624428d9ca917.css\n",
            " * Cached all downloads in /root/.grip/cache-4.5.2\n"
          ],
          "name": "stdout"
        }
      ]
    },
    {
      "cell_type": "markdown",
      "metadata": {
        "id": "v2T0vlNPDB9p",
        "colab_type": "text"
      },
      "source": [
        "## Ao final desta execução, os relatórios serão gerados na pasta \"GenerateReports\" e os arquivos bib com as correções, na pasta \"GenerateBIB\".\n",
        "- Faça os downloads dos respectivos arquivos para ter acesso aos relatórios e arquivos.bib gerados após a execução.\n",
        "- Os horários que serão inseridos nos nomes dos arquivos, provavelmente não serão os atuais, pois o script pegará o horário do servidor em que ele estiver executando remotamente e pode não ser o mesmo que o seu. \n",
        "- Após a execução do script, poderá demorar alguns segundos para que os arquivos (`report.html` e `novo_arquivo.bib`) apareçam nas pastas. Espere um pouco, feche e abra as pastas até aparecer.\n",
        "### **- DICAS:**\n",
        "1. Dependendo de como estiver o seu `arquivo.bib`, os primeiros relatórios servirão apenas para que você arrume alguns detalhes no seu `arquivo.bib` e execute novamente o `grb.py`.\n",
        "2. Antes de iniciar as correções em seu `arquivo.bib`, corrija os avisos do tipo `Type not implemented`, deixando apenas os labels válidos e execute o grb.py novamente. Desta forma, o `novo_arquivo.bib` também será gerado e você poderá começar a usá-lo!\n",
        "3. Depois que este `grb.py` gerar o seu primeiro `novo_arquivo.bib`, este novo arquivo já possuirá algumas correções, mas no relatório, ele listará todos os erros encontrados no arquivo original, mesmo que ele já tenha realizado algumas correções. A partir desse `novo_arquivo.bib` (com as correções realizadas pelo `grb.py`), passe ele uma segunda vez no `grb.py` como se fosse o seu arquivo .bib original, pois desta forma, grande parte dos itens listados no primeiro relatório como erro, não serão mais listados no próximo relatório. A partir desse momento, você pode iniciar o processo de correção das suas referências.\n",
        "4. A cada nova iteração, execute o `grb.py` com o novo_arquivo.bib corrigido, para que mais uma vez seja gerado um novo relatório, até que o `grb.py` finalmente apresente o relatório final de \"PARA-BENS\".  "
      ]
    }
  ],
  "metadata": {
    "colab": {
      "name": "GenerateRefBib.ipynb",
      "provenance": [],
      "toc_visible": true,
      "include_colab_link": true
    },
    "kernelspec": {
      "name": "python3",
      "display_name": "Python 3"
    }
  },
  "nbformat": 4,
  "nbformat_minor": 0
}